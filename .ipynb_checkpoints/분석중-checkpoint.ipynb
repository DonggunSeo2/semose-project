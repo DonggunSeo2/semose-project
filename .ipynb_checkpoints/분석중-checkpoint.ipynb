{
 "cells": [
  {
   "cell_type": "code",
   "execution_count": 3,
   "id": "8ed322bd",
   "metadata": {
    "ExecuteTime": {
     "end_time": "2023-10-29T09:08:39.008398Z",
     "start_time": "2023-10-29T09:08:38.937858Z"
    },
    "scrolled": true
   },
   "outputs": [
    {
     "name": "stdout",
     "output_type": "stream",
     "text": [
      "              id           address_name category_group_code  \\\n",
      "0     1000979638  경기 수원시 팔달구 인계동 241-14                None   \n",
      "1       10018908  경기 수원시 영통구 매탄동 1264-2                 FD6   \n",
      "2      100245369   경기 수원시 장안구 영화동 163-2                 FD6   \n",
      "3       10028799  경기 수원시 영통구 매탄동 153-22                 HP8   \n",
      "4       10030810   경기 수원시 장안구 조원동 764-2                None   \n",
      "...          ...                    ...                 ...   \n",
      "5264     9979794   경기 수원시 팔달구 우만동 134-4                 PM9   \n",
      "5265   998502881     경기 수원시 영통구 하동 1016                 HP8   \n",
      "5266     9985403     경기 수원시 팔달구 인계동 368                 PM9   \n",
      "5267     9988730   경기 수원시 팔달구 인계동 955-8                 FD6   \n",
      "5268   999313761    경기 수원시 팔달구 남창동 68-5                 BK9   \n",
      "\n",
      "     category_group_name             category_name distance          phone  \\\n",
      "0                   None               가정,생활 > 세탁소     None   031-215-6030   \n",
      "1                    음식점  음식점 > 한식 > 육류,고기 > 족발,보쌈     None   031-224-0777   \n",
      "2                    음식점            음식점 > 양식 > 햄버거     None           None   \n",
      "3                     병원           의료,건강 > 병원 > 치과     None  031-8013-7575   \n",
      "4                   None                교통,수송 > 택시     None   031-256-2023   \n",
      "...                  ...                       ...      ...            ...   \n",
      "5264                  약국                의료,건강 > 약국     None   031-216-4657   \n",
      "5265                  병원         의료,건강 > 병원 > 일반의원     None   031-213-3655   \n",
      "5266                  약국                의료,건강 > 약국     None   031-213-0966   \n",
      "5267                 음식점             음식점 > 한식 > 국밥     None   031-233-1956   \n",
      "5268                  은행  금융,보험 > 금융서비스 > 은행 > ATM     None           None   \n",
      "\n",
      "           place_name                              place_url  \\\n",
      "0              메이저크리닝  http://place.map.kakao.com/1000979638   \n",
      "1           항아리보쌈 매탄점    http://place.map.kakao.com/10018908   \n",
      "2               슈퍼벅버거   http://place.map.kakao.com/100245369   \n",
      "3        환한미소 바른이치과의원    http://place.map.kakao.com/10028799   \n",
      "4                팔달운수    http://place.map.kakao.com/10030810   \n",
      "...               ...                                    ...   \n",
      "5264            제임스약국     http://place.map.kakao.com/9979794   \n",
      "5265       광교365메디컬의원   http://place.map.kakao.com/998502881   \n",
      "5266         참다운온누리약국     http://place.map.kakao.com/9985403   \n",
      "5267       전주콩나물국밥 본점     http://place.map.kakao.com/9988730   \n",
      "5268  IBK기업은행365 화성행궁   http://place.map.kakao.com/999313761   \n",
      "\n",
      "            road_address_name           x          y  \n",
      "0     경기 수원시 팔달구 경수대로565번길 48  127.027444  37.276103  \n",
      "1      경기 수원시 영통구 매탄로108번길 28  127.044925  37.259857  \n",
      "2      경기 수원시 장안구 정조로922번길 45  127.015670  37.291204  \n",
      "3      경기 수원시 영통구 중부대로256번길 3  127.043829  37.274432  \n",
      "4      경기 수원시 장안구 송정로167번길 27  127.013648  37.299059  \n",
      "...                       ...         ...        ...  \n",
      "5264       경기 수원시 팔달구 권광로 354  127.038035  37.278608  \n",
      "5265     경기 수원시 영통구 광교중앙로 170  127.060685  37.288157  \n",
      "5266    경기 수원시 팔달구 권광로276번길 4  127.036174  37.271649  \n",
      "5267      경기 수원시 팔달구 장다리로 287  127.028941  37.274731  \n",
      "5268        경기 수원시 팔달구 행궁로 18  127.014591  37.280977  \n",
      "\n",
      "[5269 rows x 12 columns]\n"
     ]
    }
   ],
   "source": [
    "import pandas as pd\n",
    "import mysql.connector\n",
    "\n",
    "# MySQL 연결 정보\n",
    "db_config = {\n",
    "    \"host\": \"jkkyui-MacBookPro.local\",         # MySQL 서버 호스트\n",
    "    \"user\": \"root\",     # MySQL 사용자 이름\n",
    "    \"password\": \"apdlvmf4@@\", # MySQL 비밀번호\n",
    "    \"database\": \"Semose_DB\"  # 데이터베이스 이름\n",
    "}\n",
    "\n",
    "# MySQL 서버에 연결\n",
    "connection = mysql.connector.connect(**db_config)\n",
    "\n",
    "# 테이블 이름\n",
    "table_name = \"places\"\n",
    "\n",
    "# SQL 쿼리를 사용하여 데이터를 데이터프레임으로 가져옵니다.\n",
    "query = f\"SELECT * FROM {table_name}\"\n",
    "df = pd.read_sql(query, connection)\n",
    "\n",
    "# MySQL 연결 닫기\n",
    "connection.close()\n",
    "\n",
    "# 데이터프레임 출력\n",
    "print(df)"
   ]
  },
  {
   "cell_type": "code",
   "execution_count": 5,
   "id": "e30bc396",
   "metadata": {
    "ExecuteTime": {
     "end_time": "2023-10-29T09:09:00.872698Z",
     "start_time": "2023-10-29T09:09:00.862633Z"
    }
   },
   "outputs": [
    {
     "data": {
      "text/plain": [
       "0       127.027444\n",
       "1       127.044925\n",
       "2       127.015670\n",
       "3       127.043829\n",
       "4       127.013648\n",
       "           ...    \n",
       "5264    127.038035\n",
       "5265    127.060685\n",
       "5266    127.036174\n",
       "5267    127.028941\n",
       "5268    127.014591\n",
       "Name: x, Length: 5269, dtype: float64"
      ]
     },
     "execution_count": 5,
     "metadata": {},
     "output_type": "execute_result"
    }
   ],
   "source": [
    "df.x"
   ]
  },
  {
   "cell_type": "code",
   "execution_count": 6,
   "id": "59b6f34a",
   "metadata": {
    "ExecuteTime": {
     "end_time": "2023-10-29T09:09:08.077943Z",
     "start_time": "2023-10-29T09:09:08.070626Z"
    }
   },
   "outputs": [
    {
     "data": {
      "text/plain": [
       "0       37.276103\n",
       "1       37.259857\n",
       "2       37.291204\n",
       "3       37.274432\n",
       "4       37.299059\n",
       "          ...    \n",
       "5264    37.278608\n",
       "5265    37.288157\n",
       "5266    37.271649\n",
       "5267    37.274731\n",
       "5268    37.280977\n",
       "Name: y, Length: 5269, dtype: float64"
      ]
     },
     "execution_count": 6,
     "metadata": {},
     "output_type": "execute_result"
    }
   ],
   "source": [
    "df.y"
   ]
  },
  {
   "cell_type": "code",
   "execution_count": 8,
   "id": "318681c7",
   "metadata": {
    "ExecuteTime": {
     "end_time": "2023-10-29T09:12:08.636113Z",
     "start_time": "2023-10-29T09:12:07.385587Z"
    }
   },
   "outputs": [],
   "source": [
    "import pandas as pd\n",
    "import folium\n",
    "from folium import plugins\n",
    "\n",
    "# 중심 위치 설정\n",
    "center_latitude = df.y.mean()\n",
    "center_longitude = df.x.mean()\n",
    "\n",
    "# Folium 지도 생성\n",
    "m = folium.Map(location=[center_latitude, center_longitude], zoom_start=5)\n",
    "\n",
    "# DataFrame의 각 행에 대한 마커 생성\n",
    "for index, row in df[['y','x']].iterrows():\n",
    "    folium.CircleMarker([row['y'], row['x']], radius=5, color='blue').add_to(m)\n",
    "\n",
    "# 지도를 HTML로 저장\n",
    "m.save('/Users/jkky/Downloads/map.html')"
   ]
  },
  {
   "cell_type": "code",
   "execution_count": 1,
   "id": "7c2510cd",
   "metadata": {
    "ExecuteTime": {
     "end_time": "2023-10-29T09:08:31.653971Z",
     "start_time": "2023-10-29T09:08:21.951871Z"
    }
   },
   "outputs": [
    {
     "name": "stdout",
     "output_type": "stream",
     "text": [
      "Collecting package metadata (current_repodata.json): done\n",
      "Solving environment: done\n",
      "\n",
      "\n",
      "==> WARNING: A newer version of conda exists. <==\n",
      "  current version: 4.10.3\n",
      "  latest version: 23.9.0\n",
      "\n",
      "Please update conda by running\n",
      "\n",
      "    $ conda update -n base conda\n",
      "\n",
      "\n",
      "\n",
      "## Package Plan ##\n",
      "\n",
      "  environment location: /opt/homebrew/Caskroom/miniforge/base/envs/tf25\n",
      "\n",
      "  added / updated specs:\n",
      "    - folium\n",
      "\n",
      "\n",
      "The following packages will be downloaded:\n",
      "\n",
      "    package                    |            build\n",
      "    ---------------------------|-----------------\n",
      "    branca-0.6.0               |     pyhd8ed1ab_0          27 KB  conda-forge\n",
      "    folium-0.14.0              |     pyhd8ed1ab_0          71 KB  conda-forge\n",
      "    ------------------------------------------------------------\n",
      "                                           Total:          98 KB\n",
      "\n",
      "The following NEW packages will be INSTALLED:\n",
      "\n",
      "  branca             conda-forge/noarch::branca-0.6.0-pyhd8ed1ab_0\n",
      "  folium             conda-forge/noarch::folium-0.14.0-pyhd8ed1ab_0\n",
      "\n",
      "\n",
      "\n",
      "Downloading and Extracting Packages\n",
      "branca-0.6.0         | 27 KB     | ##################################### | 100% \n",
      "folium-0.14.0        | 71 KB     | ##################################### | 100% \n",
      "Preparing transaction: done\n",
      "Verifying transaction: done\n",
      "Executing transaction: done\n"
     ]
    }
   ],
   "source": [
    "!conda install folium --yes"
   ]
  },
  {
   "cell_type": "code",
   "execution_count": 9,
   "id": "9e1a1842",
   "metadata": {
    "ExecuteTime": {
     "end_time": "2023-10-29T09:22:45.109532Z",
     "start_time": "2023-10-29T09:22:45.098579Z"
    }
   },
   "outputs": [],
   "source": [
    "import math\n",
    "\n",
    "def haversine(lat1, lon1, lat2, lon2):\n",
    "    # 지구의 반지름 (킬로미터)\n",
    "    radius = 6371\n",
    "\n",
    "    # 위도 및 경도를 라디안으로 변환\n",
    "    lat1 = math.radians(lat1)\n",
    "    lon1 = math.radians(lon1)\n",
    "    lat2 = math.radians(lat2)\n",
    "    lon2 = math.radians(lon2)\n",
    "\n",
    "    # Haversine 공식을 사용하여 두 지점 간의 거리 계산\n",
    "    dlon = lon2 - lon1\n",
    "    dlat = lat2 - lat1\n",
    "    a = math.sin(dlat / 2)**2 + math.cos(lat1) * math.cos(lat2) * math.sin(dlon / 2)**2\n",
    "    c = 2 * math.atan2(math.sqrt(a), math.sqrt(1 - a))\n",
    "    distance = radius * c\n",
    "\n",
    "    return distance"
   ]
  },
  {
   "cell_type": "code",
   "execution_count": 11,
   "id": "885c425b",
   "metadata": {
    "ExecuteTime": {
     "end_time": "2023-10-29T09:26:32.736892Z",
     "start_time": "2023-10-29T09:26:32.659574Z"
    }
   },
   "outputs": [
    {
     "name": "stdout",
     "output_type": "stream",
     "text": [
      "              id           address_name category_group_code  \\\n",
      "0     1000979638  경기 수원시 팔달구 인계동 241-14                None   \n",
      "1       10018908  경기 수원시 영통구 매탄동 1264-2                 FD6   \n",
      "2      100245369   경기 수원시 장안구 영화동 163-2                 FD6   \n",
      "3       10028799  경기 수원시 영통구 매탄동 153-22                 HP8   \n",
      "4       10030810   경기 수원시 장안구 조원동 764-2                None   \n",
      "...          ...                    ...                 ...   \n",
      "5264     9979794   경기 수원시 팔달구 우만동 134-4                 PM9   \n",
      "5265   998502881     경기 수원시 영통구 하동 1016                 HP8   \n",
      "5266     9985403     경기 수원시 팔달구 인계동 368                 PM9   \n",
      "5267     9988730   경기 수원시 팔달구 인계동 955-8                 FD6   \n",
      "5268   999313761    경기 수원시 팔달구 남창동 68-5                 BK9   \n",
      "\n",
      "     category_group_name             category_name distance          phone  \\\n",
      "0                   None               가정,생활 > 세탁소     None   031-215-6030   \n",
      "1                    음식점  음식점 > 한식 > 육류,고기 > 족발,보쌈     None   031-224-0777   \n",
      "2                    음식점            음식점 > 양식 > 햄버거     None           None   \n",
      "3                     병원           의료,건강 > 병원 > 치과     None  031-8013-7575   \n",
      "4                   None                교통,수송 > 택시     None   031-256-2023   \n",
      "...                  ...                       ...      ...            ...   \n",
      "5264                  약국                의료,건강 > 약국     None   031-216-4657   \n",
      "5265                  병원         의료,건강 > 병원 > 일반의원     None   031-213-3655   \n",
      "5266                  약국                의료,건강 > 약국     None   031-213-0966   \n",
      "5267                 음식점             음식점 > 한식 > 국밥     None   031-233-1956   \n",
      "5268                  은행  금융,보험 > 금융서비스 > 은행 > ATM     None           None   \n",
      "\n",
      "           place_name                              place_url  \\\n",
      "0              메이저크리닝  http://place.map.kakao.com/1000979638   \n",
      "1           항아리보쌈 매탄점    http://place.map.kakao.com/10018908   \n",
      "2               슈퍼벅버거   http://place.map.kakao.com/100245369   \n",
      "3        환한미소 바른이치과의원    http://place.map.kakao.com/10028799   \n",
      "4                팔달운수    http://place.map.kakao.com/10030810   \n",
      "...               ...                                    ...   \n",
      "5264            제임스약국     http://place.map.kakao.com/9979794   \n",
      "5265       광교365메디컬의원   http://place.map.kakao.com/998502881   \n",
      "5266         참다운온누리약국     http://place.map.kakao.com/9985403   \n",
      "5267       전주콩나물국밥 본점     http://place.map.kakao.com/9988730   \n",
      "5268  IBK기업은행365 화성행궁   http://place.map.kakao.com/999313761   \n",
      "\n",
      "            road_address_name           x          y     거리(km)  \n",
      "0     경기 수원시 팔달구 경수대로565번길 48  127.027444  37.276103  88.280753  \n",
      "1      경기 수원시 영통구 매탄로108번길 28  127.044925  37.259857  86.159643  \n",
      "2      경기 수원시 장안구 정조로922번길 45  127.015670  37.291204  89.900523  \n",
      "3      경기 수원시 영통구 중부대로256번길 3  127.043829  37.274432  86.873732  \n",
      "4      경기 수원시 장안구 송정로167번길 27  127.013648  37.299059  90.417054  \n",
      "...                       ...         ...        ...        ...  \n",
      "5264       경기 수원시 팔달구 권광로 354  127.038035  37.278608  87.527943  \n",
      "5265     경기 수원시 영통구 광교중앙로 170  127.060685  37.288157  86.125627  \n",
      "5266    경기 수원시 팔달구 권광로276번길 4  127.036174  37.271649  87.376641  \n",
      "5267      경기 수원시 팔달구 장다리로 287  127.028941  37.274731  88.099446  \n",
      "5268        경기 수원시 팔달구 행궁로 18  127.014591  37.280977  89.539217  \n",
      "\n",
      "[5269 rows x 13 columns]\n"
     ]
    }
   ],
   "source": [
    "# 특정 위도와 경도 (예: 서울 시청의 위도와 경도)\n",
    "seoul_city_hall_lat = 36.963880825057295\n",
    "seoul_city_hall_lon = 127.94290388797995\n",
    "\n",
    "# DataFrame에 있는 위도와 경도 칼럼을 사용하여 거리 계산\n",
    "df['거리(km)'] = df.apply(lambda row: haversine(seoul_city_hall_lat, seoul_city_hall_lon, row['y'], row['x']), axis=1)\n",
    "\n",
    "# DataFrame 출력\n",
    "print(df)"
   ]
  },
  {
   "cell_type": "code",
   "execution_count": null,
   "id": "db0b6b0f",
   "metadata": {},
   "outputs": [],
   "source": [
    "df[df['거리(km)'] < 1]"
   ]
  }
 ],
 "metadata": {
  "kernelspec": {
   "display_name": "tf25",
   "language": "python",
   "name": "tf25"
  },
  "language_info": {
   "codemirror_mode": {
    "name": "ipython",
    "version": 3
   },
   "file_extension": ".py",
   "mimetype": "text/x-python",
   "name": "python",
   "nbconvert_exporter": "python",
   "pygments_lexer": "ipython3",
   "version": "3.8.12"
  }
 },
 "nbformat": 4,
 "nbformat_minor": 5
}
